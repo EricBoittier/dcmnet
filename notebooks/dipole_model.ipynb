{
 "cells": [
  {
   "cell_type": "code",
   "execution_count": 1,
   "id": "037101ad-caf1-4121-8c0d-2109755e1d57",
   "metadata": {},
   "outputs": [
    {
     "name": "stdout",
     "output_type": "stream",
     "text": [
      "[cuda(id=0)]\n",
      "gpu\n",
      "[cuda(id=0)]\n"
     ]
    }
   ],
   "source": [
    "import os\n",
    "os.environ['XLA_PYTHON_CLIENT_MEM_FRACTION'] = '.95'\n",
    "os.environ['CUDA_VISIBLE_DEVICES'] = \"0\"\n",
    "import jax\n",
    "devices = jax.local_devices()\n",
    "print(devices)\n",
    "print(jax.default_backend())\n",
    "print(jax.devices())\n",
    "\n",
    "import functools\n",
    "import os\n",
    "import urllib.request\n",
    "import e3x\n",
    "import flax.linen as nn\n",
    "import jax\n",
    "import jax.numpy as jnp\n",
    "import numpy as np\n",
    "import optax\n",
    "\n",
    "# Disable future warnings.\n",
    "import warnings\n",
    "warnings.simplefilter(action='ignore', category=FutureWarning)"
   ]
  },
  {
   "cell_type": "code",
   "execution_count": 2,
   "id": "4ed0184e-11b8-4fb5-a68b-59827e69b2a3",
   "metadata": {},
   "outputs": [
    {
     "data": {
      "text/plain": [
       "[cuda(id=0)]"
      ]
     },
     "execution_count": 2,
     "metadata": {},
     "output_type": "execute_result"
    }
   ],
   "source": [
    "jax.default_backend()\n",
    "jax.devices()"
   ]
  },
  {
   "cell_type": "code",
   "execution_count": 3,
   "id": "d1ced62c-e5cc-464d-9ccb-5d0e9172fe24",
   "metadata": {},
   "outputs": [],
   "source": [
    "dataset = np.load(\"../data/mulitpoles10000.npz\")"
   ]
  },
  {
   "cell_type": "code",
   "execution_count": 17,
   "id": "903954e4-3ea7-4b4b-9c4c-49d6b67a740f",
   "metadata": {},
   "outputs": [
    {
     "data": {
      "text/plain": [
       "dict_keys(['R', 'Z', 'N', 'F', 'mono', 'dip', 'quad'])"
      ]
     },
     "execution_count": 17,
     "metadata": {},
     "output_type": "execute_result"
    }
   ],
   "source": [
    "dict(dataset).keys()"
   ]
  },
  {
   "cell_type": "code",
   "execution_count": 4,
   "id": "bb025192-e70a-4e2a-b8e2-a7cec007c745",
   "metadata": {},
   "outputs": [],
   "source": [
    "a = np.nonzero(dataset[\"mono\"].sum(axis=1).flatten())"
   ]
  },
  {
   "cell_type": "code",
   "execution_count": 5,
   "id": "99a40b99-de27-4137-85d6-74264d141748",
   "metadata": {},
   "outputs": [],
   "source": [
    "zeros = np.where(np.all(dataset[\"mono\"] == 0, axis=1))[0]"
   ]
  },
  {
   "cell_type": "code",
   "execution_count": 6,
   "id": "6df93f7f-fe4c-44ba-bcf2-8fdd22c078f4",
   "metadata": {},
   "outputs": [
    {
     "data": {
      "text/plain": [
       "(10000, 60, 1)"
      ]
     },
     "execution_count": 6,
     "metadata": {},
     "output_type": "execute_result"
    }
   ],
   "source": [
    "dataset[\"mono\"].shape"
   ]
  },
  {
   "cell_type": "code",
   "execution_count": 7,
   "id": "d6eaa69c-eab5-4a53-acb9-5be227d2253c",
   "metadata": {},
   "outputs": [
    {
     "name": "stdout",
     "output_type": "stream",
     "text": [
      "[   0    1    2 ... 9997 9998 9999]\n",
      "10000\n"
     ]
    }
   ],
   "source": [
    "# Total indices range\n",
    "total_indices = np.arange(dataset[\"mono\"].shape[0])\n",
    "\n",
    "# Find indices of non-zero arrays\n",
    "nonzeros_indices = np.setdiff1d(total_indices, zeros)\n",
    "\n",
    "print(nonzeros_indices)\n",
    "print(len(nonzeros_indices))"
   ]
  },
  {
   "cell_type": "code",
   "execution_count": 8,
   "id": "94a590ad-7ba9-4c17-9eda-f99438a7635d",
   "metadata": {},
   "outputs": [],
   "source": [
    "data_key, train_key = jax.random.split(jax.random.PRNGKey(0), 2)"
   ]
  },
  {
   "cell_type": "code",
   "execution_count": 9,
   "id": "7e6ec61e-a323-4cc3-8298-90f050e7cd86",
   "metadata": {},
   "outputs": [],
   "source": [
    "def prepare_datasets(key, num_train, num_valid, filename=\"mulitpoles766000.npz\"):\n",
    "  # Load the dataset.\n",
    "  dataset = np.load(filename)\n",
    "    \n",
    "  for k,v in dataset.items():\n",
    "      print(k, v.shape)\n",
    "\n",
    "  num_data = len(dataset[\"mono\"])\n",
    "  nonzeros = np.where(np.all(dataset[\"mono\"] == 0, axis=1))[0]\n",
    "  total_indices = np.arange(num_data)\n",
    "  # Find indices of non-zero arrays\n",
    "  nonzeros = np.setdiff1d(total_indices, zeros)\n",
    "  \n",
    "  dataF =   dataset['F'][nonzeros]\n",
    "  dataR =   dataset['R'][nonzeros]\n",
    "  dataZ =   dataset['Z'][nonzeros]\n",
    "  dataMono =   dataset['mono'][nonzeros]\n",
    "  dataDip = dataset['dip'][nonzeros]\n",
    "  # dataset['F'] =   dataset['F'][nonzeros]\n",
    "    \n",
    "  # Make sure that the dataset contains enough entries.\n",
    "  num_data = len(dataR)\n",
    "  print(num_data)\n",
    "  num_draw = num_train + num_valid\n",
    "  if num_draw > num_data:\n",
    "    raise RuntimeError(\n",
    "      f'datasets only contains {num_data} points, requested num_train={num_train}, num_valid={num_valid}')\n",
    "\n",
    "  # Randomly draw train and validation sets from dataset.\n",
    "  choice = np.asarray(jax.random.choice(key, num_data, shape=(num_draw,), replace=False))\n",
    "  train_choice = choice[:num_train]\n",
    "  valid_choice = choice[num_train:]\n",
    "\n",
    "  # atomic_numbers = jnp.tile(dataset['z'], num_data).reshape((num_data, len(dataset[\"z\"])))\n",
    "  atomic_numbers = dataZ\n",
    "    \n",
    "  # Determine mean energy of the training set.\n",
    "  # mean_energy = np.mean(dataset['E'][train_choice])  # ~ -97000\n",
    "  mean_energy = 0\n",
    "\n",
    "  # Collect and return train and validation sets.\n",
    "  train_data = dict(\n",
    "    # energy=jnp.asarray(dataset['E'][train_choice] - mean_energy),\n",
    "    # forces=jnp.asarray(dataF[train_choice]),\n",
    "    atomic_numbers=jnp.asarray(atomic_numbers[train_choice]),\n",
    "    positions=jnp.asarray(dataR[train_choice]),\n",
    "    mono=jnp.asarray(dataMono[train_choice]),\n",
    "    dipo=jnp.asarray(dataDip[train_choice]),\n",
    "  )\n",
    "  valid_data = dict(\n",
    "    # energy=jnp.asarray(dataset['E'][valid_choice] - mean_energy),\n",
    "    # forces=jnp.asarray(dataF[valid_choice]),\n",
    "    atomic_numbers=jnp.asarray(atomic_numbers[valid_choice]),\n",
    "    positions=jnp.asarray(dataR[valid_choice]),\n",
    "    mono=jnp.asarray(dataMono[valid_choice]),\n",
    "    dipo=jnp.asarray(dataDip[valid_choice]),\n",
    "  )\n",
    "  print(\"...\")\n",
    "  print(\"...\")\n",
    "  for k,v in train_data.items():\n",
    "      print(k, v.shape)\n",
    "  print(\"...\")\n",
    "  for k,v in valid_data.items():\n",
    "      print(k, v.shape)\n",
    "      \n",
    "  return train_data, valid_data, mean_energy"
   ]
  },
  {
   "cell_type": "code",
   "execution_count": 62,
   "id": "a36ade5c-47ea-4414-9203-d9e325444a72",
   "metadata": {},
   "outputs": [
    {
     "data": {
      "text/plain": [
       "524288"
      ]
     },
     "execution_count": 62,
     "metadata": {},
     "output_type": "execute_result"
    }
   ],
   "source": [
    "2**19"
   ]
  },
  {
   "cell_type": "code",
   "execution_count": 63,
   "id": "8053b5a0-07ff-44c5-90d7-29e5e28a8ccb",
   "metadata": {},
   "outputs": [
    {
     "name": "stdout",
     "output_type": "stream",
     "text": [
      "R (766000, 60, 3)\n",
      "Z (766000, 60)\n",
      "N (766000,)\n",
      "F (766000, 60, 3)\n",
      "mono (766000, 60, 1)\n",
      "dip (766000, 60, 3)\n",
      "quad (766000, 60, 6)\n",
      "766000\n",
      "...\n",
      "...\n",
      "atomic_numbers (524288, 60)\n",
      "positions (524288, 60, 3)\n",
      "mono (524288, 60, 1)\n",
      "dipo (524288, 60, 3)\n",
      "...\n",
      "atomic_numbers (320, 60)\n",
      "positions (320, 60, 3)\n",
      "mono (320, 60, 1)\n",
      "dipo (320, 60, 3)\n"
     ]
    }
   ],
   "source": [
    "train_data, valid_data, mean_energy = prepare_datasets(data_key, 2**19, 320, \n",
    "                                                       filename=\"../data/mulitpoles766000.npz\")"
   ]
  },
  {
   "cell_type": "code",
   "execution_count": 64,
   "id": "4bd6e1b1-9c9e-4fe8-aadb-ac1eb4df8116",
   "metadata": {},
   "outputs": [],
   "source": [
    "\n",
    "\n",
    "class MessagePassingModel(nn.Module):\n",
    "  features: int = 32\n",
    "  max_degree: int = 2\n",
    "  num_iterations: int = 3\n",
    "  num_basis_functions: int = 8\n",
    "  cutoff: float = 5.0\n",
    "  max_atomic_number: int = 17  # This is overkill for most applications.\n",
    "\n",
    "\n",
    "  def mono(self, atomic_numbers, positions, dst_idx, src_idx, batch_segments, batch_size):\n",
    "    # 1. Calculate displacement vectors.\n",
    "    positions_dst = e3x.ops.gather_dst(positions, dst_idx=dst_idx)\n",
    "    positions_src = e3x.ops.gather_src(positions, src_idx=src_idx)\n",
    "    displacements = positions_src - positions_dst  # Shape (num_pairs, 3).\n",
    "\n",
    "    # 2. Expand displacement vectors in basis functions.\n",
    "    basis = e3x.nn.basis(  # Shape (num_pairs, 1, (max_degree+1)**2, num_basis_functions).\n",
    "      displacements,\n",
    "      num=self.num_basis_functions,\n",
    "      max_degree=self.max_degree,\n",
    "      radial_fn=e3x.nn.reciprocal_bernstein,\n",
    "      cutoff_fn=functools.partial(e3x.nn.smooth_cutoff, cutoff=self.cutoff)\n",
    "    )\n",
    "\n",
    "    # 3. Embed atomic numbers in feature space, x has shape (num_atoms, 1, 1, features).\n",
    "    x = e3x.nn.Embed(num_embeddings=self.max_atomic_number+1, features=self.features)(atomic_numbers)\n",
    "\n",
    "    # 4. Perform iterations (message-passing + atom-wise refinement).\n",
    "    for i in range(self.num_iterations):\n",
    "      # Message-pass.\n",
    "      if i == self.num_iterations-1:  # Final iteration.\n",
    "        # Since we will only use scalar features after the final message-pass, we do not want to produce non-scalar\n",
    "        # features for efficiency reasons.\n",
    "        y = e3x.nn.MessagePass(max_degree=max_degree, include_pseudotensors=False)(x, basis, dst_idx=dst_idx, src_idx=src_idx)\n",
    "        # After the final message pass, we can safely throw away all non-scalar features.\n",
    "        x = e3x.nn.change_max_degree_or_type(x, max_degree=max_degree, include_pseudotensors=False)\n",
    "      else:\n",
    "        # In intermediate iterations, the message-pass should consider all possible coupling paths.\n",
    "        y = e3x.nn.MessagePass()(x, basis, dst_idx=dst_idx, src_idx=src_idx)\n",
    "          \n",
    "      y = e3x.nn.add(x, y)\n",
    "      # Atom-wise refinement MLP.\n",
    "      y = e3x.nn.Dense(self.features)(y)\n",
    "      y = e3x.nn.silu(y)\n",
    "      y = e3x.nn.Dense(self.features, kernel_init=jax.nn.initializers.zeros)(y)\n",
    "      # Residual connection.\n",
    "      x = e3x.nn.add(x, y)\n",
    "\n",
    "    # 5. Predict atomic monopoles with an ordinary dense layer.\n",
    "    element_bias = self.param('element_bias', lambda rng, shape: jnp.zeros(shape), (self.max_atomic_number+1))\n",
    "    atomic_mono = nn.Dense(1, use_bias=False, kernel_init=jax.nn.initializers.zeros)(x[:,0,0])  # (..., Natoms, 1, 1, 1)\n",
    "    atomic_mono = jnp.squeeze(atomic_mono, axis=(-1))  # Squeeze last 3 dimensions.\n",
    "    atomic_mono += element_bias[atomic_numbers]\n",
    "\n",
    "    atomic_dipo = e3x.nn.TensorDense(  \n",
    "        features=self.features,\n",
    "        max_degree=1, \n",
    "        include_pseudotensors=False,\n",
    "    )(x)\n",
    "    atomic_dipo = e3x.nn.silu(atomic_dipo)\n",
    "    atomic_dipo = jnp.sum(atomic_dipo, axis=-1)[:,0,1:4]\n",
    "\n",
    "    return atomic_mono, atomic_dipo\n",
    "\n",
    "\n",
    "  @nn.compact\n",
    "  def __call__(self, atomic_numbers, positions, dst_idx, src_idx, batch_segments=None, batch_size=None):\n",
    "    if batch_segments is None:\n",
    "      batch_segments = jnp.zeros_like(atomic_numbers)\n",
    "      batch_size = 1\n",
    "\n",
    "    return self.mono(atomic_numbers, positions, dst_idx, src_idx, batch_segments, batch_size)"
   ]
  },
  {
   "cell_type": "code",
   "execution_count": 65,
   "id": "0d53b431-bdb0-48f1-b6cb-3b29fa7d677b",
   "metadata": {},
   "outputs": [],
   "source": [
    "def prepare_batches(key, data, batch_size):\n",
    "  # Determine the number of training steps per epoch.\n",
    "  data_size = len(data['mono'])\n",
    "  steps_per_epoch = data_size//batch_size\n",
    "\n",
    "  # Draw random permutations for fetching batches from the train data.\n",
    "  perms = jax.random.permutation(key, data_size)\n",
    "  perms = perms[:steps_per_epoch * batch_size]  # Skip the last batch (if incomplete).\n",
    "  perms = perms.reshape((steps_per_epoch, batch_size))\n",
    "\n",
    "  # Prepare entries that are identical for each batch.\n",
    "  num_atoms = len(data['atomic_numbers'][0])\n",
    "  batch_segments = jnp.repeat(jnp.arange(batch_size), num_atoms)\n",
    "  # atomic_numbers = jnp.tile(data['atomic_numbers'], batch_size)\n",
    "  offsets = jnp.arange(batch_size) * num_atoms\n",
    "  dst_idx, src_idx = e3x.ops.sparse_pairwise_indices(num_atoms)\n",
    "  dst_idx = (dst_idx + offsets[:, None]).reshape(-1)\n",
    "  src_idx = (src_idx + offsets[:, None]).reshape(-1)\n",
    "\n",
    "  # Assemble and return batches.\n",
    "  return [\n",
    "    dict(\n",
    "        # energy=data['energy'][perm],\n",
    "        # forces=data['forces'][perm].reshape(-1, 3),\n",
    "        mono=data[\"mono\"][perm].reshape(-1),\n",
    "        dipo=data['dipo'][perm].reshape(-1, 3),\n",
    "        atomic_numbers=data[\"atomic_numbers\"][perm].reshape(-1),\n",
    "        positions=data['positions'][perm].reshape(-1, 3),\n",
    "        dst_idx=dst_idx,\n",
    "        src_idx=src_idx,\n",
    "        batch_segments = batch_segments,\n",
    "    )\n",
    "    for perm in perms\n",
    "  ]"
   ]
  },
  {
   "cell_type": "code",
   "execution_count": 66,
   "id": "a8c8b90b-1ba3-41e6-80f7-a0a4443be34f",
   "metadata": {},
   "outputs": [],
   "source": [
    "def mean_squared_loss(mono_prediction, mono_target, dipo_prediction, dipo_target, batch_size):\n",
    "  nonzero = jnp.nonzero(mono_target, size=batch_size*60)\n",
    "  mono_mse = jnp.mean(optax.l2_loss(mono_prediction[nonzero], mono_target[nonzero]))\n",
    "  dipo_mse = jnp.mean(optax.l2_loss(dipo_prediction[nonzero], dipo_target[nonzero]))\n",
    "  return mono_mse + dipo_mse * 10.0\n",
    "\n",
    "\n",
    "def mean_absolute_error(prediction, target,batch_size):\n",
    "  nonzero = jnp.nonzero(target, size=batch_size*60)\n",
    "  return jnp.mean(jnp.abs(prediction[nonzero] - target[nonzero]))"
   ]
  },
  {
   "cell_type": "code",
   "execution_count": 67,
   "id": "f47787bc-b12b-4a1a-8ce3-6b7fb0b12a3c",
   "metadata": {},
   "outputs": [],
   "source": [
    "@functools.partial(jax.jit, static_argnames=('model_apply', 'optimizer_update', 'batch_size'))\n",
    "def train_step(model_apply, optimizer_update, batch, batch_size, opt_state, params):\n",
    "    \n",
    "  def loss_fn(params):\n",
    "    mono, dipo = model_apply(\n",
    "      params,\n",
    "      atomic_numbers=batch['atomic_numbers'],\n",
    "      positions=batch['positions'],\n",
    "      dst_idx=batch['dst_idx'],\n",
    "      src_idx=batch['src_idx'],\n",
    "      batch_segments=batch['batch_segments'],\n",
    "      batch_size=batch_size\n",
    "    )\n",
    "    loss = mean_squared_loss(\n",
    "      mono_prediction=mono,\n",
    "      mono_target=batch['mono'],\n",
    "      dipo_prediction=dipo,\n",
    "      dipo_target=batch['dipo'],\n",
    "      batch_size = batch_size\n",
    "    )\n",
    "    return loss, (mono, dipo)\n",
    "      \n",
    "  (loss, (mono, dipo)), grad = jax.value_and_grad(loss_fn, has_aux=True)(params)\n",
    "  updates, opt_state = optimizer_update(grad, opt_state, params)\n",
    "  params = optax.apply_updates(params, updates)\n",
    "  mono_mae = mean_absolute_error(mono, batch['mono'], batch_size)\n",
    "  dipo_mae = mean_absolute_error(dipo, batch['dipo'], batch_size)\n",
    "  return params, opt_state, loss, mono_mae, dipo_mae\n",
    "\n",
    "\n",
    "@functools.partial(jax.jit, static_argnames=('model_apply', 'batch_size'))\n",
    "def eval_step(model_apply, batch, batch_size, params):\n",
    "\n",
    "  mono, dipo = model_apply(\n",
    "      params,\n",
    "      atomic_numbers=batch['atomic_numbers'],\n",
    "      positions=batch['positions'],\n",
    "      dst_idx=batch['dst_idx'],\n",
    "      src_idx=batch['src_idx'],\n",
    "      batch_segments=batch['batch_segments'],\n",
    "      batch_size=batch_size\n",
    "    )\n",
    "  loss = mean_squared_loss(\n",
    "      mono_prediction=mono,\n",
    "      mono_target=batch['mono'],\n",
    "      batch_size=batch_size,\n",
    "      dipo_prediction=dipo,\n",
    "      dipo_target=batch['dipo'],\n",
    "    )\n",
    "  mono_mae = mean_absolute_error(mono, batch['mono'], batch_size)\n",
    "  dipo_mae = mean_absolute_error(dipo, batch['dipo'], batch_size)\n",
    "  return loss, mono_mae, dipo_mae\n",
    "\n",
    "\n",
    "def train_model(key, model, train_data, valid_data, num_epochs, learning_rate, batch_size,\n",
    "               restart=None):\n",
    "  # Initialize model parameters and optimizer state.\n",
    "  key, init_key = jax.random.split(key)\n",
    "  optimizer = optax.adam(learning_rate)\n",
    "  dst_idx, src_idx = e3x.ops.sparse_pairwise_indices(len(train_data['atomic_numbers'][0]))\n",
    "  params = model.init(init_key,\n",
    "    atomic_numbers=train_data['atomic_numbers'][0],\n",
    "    positions=train_data['positions'][0],\n",
    "    dst_idx=dst_idx,\n",
    "    src_idx=src_idx,\n",
    "  )\n",
    "  if restart is not None:\n",
    "      params = restart\n",
    "  opt_state = optimizer.init(params)\n",
    "\n",
    "  print(\"Preparaing batches\")\n",
    "  print(\"..................\")\n",
    "  # Batches for the validation set need to be prepared only once.\n",
    "  key, shuffle_key = jax.random.split(key)\n",
    "  valid_batches = prepare_batches(shuffle_key, valid_data, batch_size)\n",
    "\n",
    "  # Train for 'num_epochs' epochs.\n",
    "  for epoch in range(1, num_epochs + 1):\n",
    "    # Prepare batches.\n",
    "    key, shuffle_key = jax.random.split(key)\n",
    "    train_batches = prepare_batches(shuffle_key, train_data, batch_size)\n",
    "\n",
    "    # Loop over train batches.\n",
    "    train_loss = 0.0\n",
    "    train_mono_mae = 0.0\n",
    "    train_dipo_mae = 0.0\n",
    "    for i, batch in enumerate(train_batches):\n",
    "      params, opt_state, loss, mono_mae, dipo_mae = train_step(\n",
    "        model_apply=model.apply,\n",
    "        optimizer_update=optimizer.update,\n",
    "        batch=batch,\n",
    "        batch_size=batch_size,\n",
    "        opt_state=opt_state,\n",
    "        params=params\n",
    "      )\n",
    "      train_loss += (loss - train_loss)/(i+1)\n",
    "      train_mono_mae += (mono_mae - train_mono_mae)/(i+1)\n",
    "      train_dipo_mae += (dipo_mae - train_dipo_mae)/(i+1)\n",
    "\n",
    "    # Evaluate on validation set.\n",
    "    valid_loss = 0.0\n",
    "    valid_mono_mae = 0.0\n",
    "    valid_dipo_mae = 0.0\n",
    "    for i, batch in enumerate(valid_batches):\n",
    "      loss, mono_mae, dipo_mae = eval_step(\n",
    "        model_apply=model.apply,\n",
    "        batch=batch,\n",
    "        batch_size=batch_size,\n",
    "        params=params\n",
    "      )\n",
    "      valid_loss += (loss - valid_loss)/(i+1)\n",
    "      valid_mono_mae += (mono_mae - valid_mono_mae)/(i+1)\n",
    "      valid_dipo_mae += (dipo_mae - valid_dipo_mae)/(i+1)\n",
    "        \n",
    "    # Print progress.\n",
    "    print(f\"epoch: {epoch: 3d}                    train:   valid:\")\n",
    "    print(f\"    loss [a.u.]             {train_loss : 8.3f} {valid_loss : 8.3f}\")\n",
    "    print(f\"    mono mae [kcal/mol]   {train_mono_mae: 8.3f} {valid_mono_mae: 8.3f}\")\n",
    "    print(f\"    dipo mae [kcal/mol]   {train_dipo_mae: 8.3f} {valid_dipo_mae: 8.3f}\")\n",
    "\n",
    "  # Return final model parameters.\n",
    "  return params"
   ]
  },
  {
   "cell_type": "code",
   "execution_count": 68,
   "id": "fcbc4e98-1515-4fac-95e1-78de281fe3f0",
   "metadata": {},
   "outputs": [],
   "source": [
    "# Model hyperparameters.\n",
    "features = 16\n",
    "max_degree = 2\n",
    "num_iterations = 3\n",
    "num_basis_functions = 16\n",
    "cutoff = 5.0\n",
    "\n",
    "# Training hyperparameters.\n",
    "# num_valid = 1000\n",
    "# num_train = 10000 - num_valid\n",
    "num_epochs = 50\n",
    "learning_rate = 0.0001\n",
    "batch_size = 32"
   ]
  },
  {
   "cell_type": "code",
   "execution_count": 69,
   "id": "68d673a9-4e61-42de-9567-8646a49efa96",
   "metadata": {},
   "outputs": [
    {
     "data": {
      "text/plain": [
       "[cuda(id=0)]"
      ]
     },
     "execution_count": 69,
     "metadata": {},
     "output_type": "execute_result"
    }
   ],
   "source": [
    "jax.default_backend()\n",
    "jax.devices()\n"
   ]
  },
  {
   "cell_type": "code",
   "execution_count": 20,
   "id": "5686f346-a1e8-4d66-b07f-c054e90628d8",
   "metadata": {},
   "outputs": [],
   "source": [
    "# Create and train model.\n",
    "message_passing_model = MessagePassingModel(\n",
    "  features=features,\n",
    "  max_degree=max_degree,\n",
    "  num_iterations=num_iterations,\n",
    "  num_basis_functions=num_basis_functions,\n",
    "  cutoff=cutoff,\n",
    ")"
   ]
  },
  {
   "cell_type": "code",
   "execution_count": 21,
   "id": "cc8c1ecf-3f0e-42d4-a9f9-79a62c17679d",
   "metadata": {
    "scrolled": true
   },
   "outputs": [
    {
     "name": "stdout",
     "output_type": "stream",
     "text": [
      "Preparaing batches\n",
      "..................\n",
      "epoch:   1                    train:   valid:\n",
      "    loss [a.u.]                0.076    0.060\n",
      "    mono mae [kcal/mol]      0.311    0.266\n",
      "    dipo mae [kcal/mol]      0.018    0.018\n",
      "epoch:   2                    train:   valid:\n",
      "    loss [a.u.]                0.057    0.046\n",
      "    mono mae [kcal/mol]      0.253    0.213\n",
      "    dipo mae [kcal/mol]      0.017    0.016\n",
      "epoch:   3                    train:   valid:\n",
      "    loss [a.u.]                0.047    0.040\n",
      "    mono mae [kcal/mol]      0.215    0.188\n",
      "    dipo mae [kcal/mol]      0.016    0.016\n",
      "epoch:   4                    train:   valid:\n",
      "    loss [a.u.]                0.040    0.035\n",
      "    mono mae [kcal/mol]      0.190    0.170\n",
      "    dipo mae [kcal/mol]      0.016    0.016\n",
      "epoch:   5                    train:   valid:\n",
      "    loss [a.u.]                0.034    0.030\n",
      "    mono mae [kcal/mol]      0.174    0.161\n",
      "    dipo mae [kcal/mol]      0.015    0.015\n",
      "epoch:   6                    train:   valid:\n",
      "    loss [a.u.]                0.027    0.028\n",
      "    mono mae [kcal/mol]      0.154    0.160\n",
      "    dipo mae [kcal/mol]      0.015    0.015\n",
      "epoch:   7                    train:   valid:\n",
      "    loss [a.u.]                0.026    0.026\n",
      "    mono mae [kcal/mol]      0.154    0.157\n",
      "    dipo mae [kcal/mol]      0.014    0.014\n",
      "epoch:   8                    train:   valid:\n",
      "    loss [a.u.]                0.025    0.025\n",
      "    mono mae [kcal/mol]      0.152    0.155\n",
      "    dipo mae [kcal/mol]      0.014    0.014\n",
      "epoch:   9                    train:   valid:\n",
      "    loss [a.u.]                0.024    0.024\n",
      "    mono mae [kcal/mol]      0.148    0.154\n",
      "    dipo mae [kcal/mol]      0.014    0.013\n",
      "epoch:  10                    train:   valid:\n",
      "    loss [a.u.]                0.023    0.023\n",
      "    mono mae [kcal/mol]      0.143    0.150\n",
      "    dipo mae [kcal/mol]      0.013    0.013\n",
      "epoch:  11                    train:   valid:\n",
      "    loss [a.u.]                0.021    0.022\n",
      "    mono mae [kcal/mol]      0.141    0.144\n",
      "    dipo mae [kcal/mol]      0.013    0.013\n",
      "epoch:  12                    train:   valid:\n",
      "    loss [a.u.]                0.020    0.021\n",
      "    mono mae [kcal/mol]      0.137    0.144\n",
      "    dipo mae [kcal/mol]      0.013    0.012\n",
      "epoch:  13                    train:   valid:\n",
      "    loss [a.u.]                0.019    0.020\n",
      "    mono mae [kcal/mol]      0.132    0.141\n",
      "    dipo mae [kcal/mol]      0.012    0.012\n",
      "epoch:  14                    train:   valid:\n",
      "    loss [a.u.]                0.020    0.019\n",
      "    mono mae [kcal/mol]      0.133    0.133\n",
      "    dipo mae [kcal/mol]      0.012    0.012\n",
      "epoch:  15                    train:   valid:\n",
      "    loss [a.u.]                0.019    0.018\n",
      "    mono mae [kcal/mol]      0.129    0.130\n",
      "    dipo mae [kcal/mol]      0.012    0.011\n",
      "epoch:  16                    train:   valid:\n",
      "    loss [a.u.]                0.019    0.018\n",
      "    mono mae [kcal/mol]      0.131    0.134\n",
      "    dipo mae [kcal/mol]      0.012    0.011\n",
      "epoch:  17                    train:   valid:\n",
      "    loss [a.u.]                0.018    0.017\n",
      "    mono mae [kcal/mol]      0.126    0.131\n",
      "    dipo mae [kcal/mol]      0.012    0.011\n",
      "epoch:  18                    train:   valid:\n",
      "    loss [a.u.]                0.016    0.016\n",
      "    mono mae [kcal/mol]      0.121    0.127\n",
      "    dipo mae [kcal/mol]      0.011    0.011\n",
      "epoch:  19                    train:   valid:\n",
      "    loss [a.u.]                0.016    0.016\n",
      "    mono mae [kcal/mol]      0.124    0.124\n",
      "    dipo mae [kcal/mol]      0.011    0.011\n",
      "epoch:  20                    train:   valid:\n",
      "    loss [a.u.]                0.016    0.015\n",
      "    mono mae [kcal/mol]      0.120    0.125\n",
      "    dipo mae [kcal/mol]      0.011    0.011\n",
      "epoch:  21                    train:   valid:\n",
      "    loss [a.u.]                0.015    0.014\n",
      "    mono mae [kcal/mol]      0.121    0.117\n",
      "    dipo mae [kcal/mol]      0.011    0.011\n",
      "epoch:  22                    train:   valid:\n",
      "    loss [a.u.]                0.015    0.013\n",
      "    mono mae [kcal/mol]      0.116    0.112\n",
      "    dipo mae [kcal/mol]      0.011    0.011\n",
      "epoch:  23                    train:   valid:\n",
      "    loss [a.u.]                0.014    0.014\n",
      "    mono mae [kcal/mol]      0.115    0.117\n",
      "    dipo mae [kcal/mol]      0.011    0.010\n",
      "epoch:  24                    train:   valid:\n",
      "    loss [a.u.]                0.014    0.012\n",
      "    mono mae [kcal/mol]      0.110    0.107\n",
      "    dipo mae [kcal/mol]      0.011    0.010\n",
      "epoch:  25                    train:   valid:\n",
      "    loss [a.u.]                0.014    0.012\n",
      "    mono mae [kcal/mol]      0.111    0.105\n",
      "    dipo mae [kcal/mol]      0.011    0.011\n",
      "epoch:  26                    train:   valid:\n",
      "    loss [a.u.]                0.012    0.012\n",
      "    mono mae [kcal/mol]      0.107    0.106\n",
      "    dipo mae [kcal/mol]      0.010    0.010\n",
      "epoch:  27                    train:   valid:\n",
      "    loss [a.u.]                0.011    0.011\n",
      "    mono mae [kcal/mol]      0.100    0.102\n",
      "    dipo mae [kcal/mol]      0.010    0.010\n",
      "epoch:  28                    train:   valid:\n",
      "    loss [a.u.]                0.011    0.011\n",
      "    mono mae [kcal/mol]      0.099    0.100\n",
      "    dipo mae [kcal/mol]      0.010    0.010\n",
      "epoch:  29                    train:   valid:\n",
      "    loss [a.u.]                0.010    0.010\n",
      "    mono mae [kcal/mol]      0.096    0.094\n",
      "    dipo mae [kcal/mol]      0.010    0.010\n",
      "epoch:  30                    train:   valid:\n",
      "    loss [a.u.]                0.010    0.010\n",
      "    mono mae [kcal/mol]      0.096    0.094\n",
      "    dipo mae [kcal/mol]      0.010    0.010\n",
      "epoch:  31                    train:   valid:\n",
      "    loss [a.u.]                0.010    0.009\n",
      "    mono mae [kcal/mol]      0.096    0.092\n",
      "    dipo mae [kcal/mol]      0.010    0.010\n",
      "epoch:  32                    train:   valid:\n",
      "    loss [a.u.]                0.010    0.009\n",
      "    mono mae [kcal/mol]      0.094    0.094\n",
      "    dipo mae [kcal/mol]      0.010    0.010\n",
      "epoch:  33                    train:   valid:\n",
      "    loss [a.u.]                0.009    0.009\n",
      "    mono mae [kcal/mol]      0.088    0.089\n",
      "    dipo mae [kcal/mol]      0.010    0.010\n",
      "epoch:  34                    train:   valid:\n",
      "    loss [a.u.]                0.009    0.008\n",
      "    mono mae [kcal/mol]      0.090    0.088\n",
      "    dipo mae [kcal/mol]      0.010    0.010\n",
      "epoch:  35                    train:   valid:\n",
      "    loss [a.u.]                0.009    0.008\n",
      "    mono mae [kcal/mol]      0.088    0.088\n",
      "    dipo mae [kcal/mol]      0.010    0.010\n",
      "epoch:  36                    train:   valid:\n",
      "    loss [a.u.]                0.008    0.008\n",
      "    mono mae [kcal/mol]      0.085    0.087\n",
      "    dipo mae [kcal/mol]      0.010    0.010\n",
      "epoch:  37                    train:   valid:\n",
      "    loss [a.u.]                0.008    0.007\n",
      "    mono mae [kcal/mol]      0.082    0.080\n",
      "    dipo mae [kcal/mol]      0.010    0.010\n",
      "epoch:  38                    train:   valid:\n",
      "    loss [a.u.]                0.008    0.007\n",
      "    mono mae [kcal/mol]      0.083    0.083\n",
      "    dipo mae [kcal/mol]      0.010    0.010\n",
      "epoch:  39                    train:   valid:\n",
      "    loss [a.u.]                0.008    0.007\n",
      "    mono mae [kcal/mol]      0.082    0.080\n",
      "    dipo mae [kcal/mol]      0.009    0.010\n",
      "epoch:  40                    train:   valid:\n",
      "    loss [a.u.]                0.007    0.007\n",
      "    mono mae [kcal/mol]      0.080    0.076\n",
      "    dipo mae [kcal/mol]      0.009    0.010\n",
      "epoch:  41                    train:   valid:\n",
      "    loss [a.u.]                0.007    0.007\n",
      "    mono mae [kcal/mol]      0.076    0.079\n",
      "    dipo mae [kcal/mol]      0.009    0.009\n",
      "epoch:  42                    train:   valid:\n",
      "    loss [a.u.]                0.007    0.006\n",
      "    mono mae [kcal/mol]      0.077    0.073\n",
      "    dipo mae [kcal/mol]      0.009    0.009\n",
      "epoch:  43                    train:   valid:\n",
      "    loss [a.u.]                0.006    0.006\n",
      "    mono mae [kcal/mol]      0.074    0.073\n",
      "    dipo mae [kcal/mol]      0.009    0.009\n",
      "epoch:  44                    train:   valid:\n",
      "    loss [a.u.]                0.007    0.006\n",
      "    mono mae [kcal/mol]      0.074    0.071\n",
      "    dipo mae [kcal/mol]      0.009    0.009\n",
      "epoch:  45                    train:   valid:\n",
      "    loss [a.u.]                0.006    0.006\n",
      "    mono mae [kcal/mol]      0.073    0.071\n",
      "    dipo mae [kcal/mol]      0.009    0.009\n",
      "epoch:  46                    train:   valid:\n",
      "    loss [a.u.]                0.006    0.006\n",
      "    mono mae [kcal/mol]      0.072    0.070\n",
      "    dipo mae [kcal/mol]      0.009    0.009\n",
      "epoch:  47                    train:   valid:\n",
      "    loss [a.u.]                0.006    0.006\n",
      "    mono mae [kcal/mol]      0.070    0.069\n",
      "    dipo mae [kcal/mol]      0.009    0.010\n",
      "epoch:  48                    train:   valid:\n",
      "    loss [a.u.]                0.006    0.005\n",
      "    mono mae [kcal/mol]      0.070    0.067\n",
      "    dipo mae [kcal/mol]      0.009    0.009\n",
      "epoch:  49                    train:   valid:\n",
      "    loss [a.u.]                0.006    0.006\n",
      "    mono mae [kcal/mol]      0.070    0.068\n",
      "    dipo mae [kcal/mol]      0.009    0.009\n",
      "epoch:  50                    train:   valid:\n",
      "    loss [a.u.]                0.006    0.005\n",
      "    mono mae [kcal/mol]      0.069    0.067\n",
      "    dipo mae [kcal/mol]      0.009    0.009\n"
     ]
    }
   ],
   "source": [
    "params = train_model(\n",
    "  key=train_key,\n",
    "  model=message_passing_model,\n",
    "  train_data=train_data,\n",
    "  valid_data=valid_data,\n",
    "  num_epochs=num_epochs,\n",
    "  learning_rate=learning_rate,\n",
    "  batch_size=batch_size,\n",
    ")"
   ]
  },
  {
   "cell_type": "code",
   "execution_count": 22,
   "id": "f68816bb-faff-4e41-88a1-b66008fdd98c",
   "metadata": {},
   "outputs": [],
   "source": [
    "import pickle\n",
    "# open a file, where you ant to store the data\n",
    "with open('dipo_mono_params.pkl', 'wb') as file:\n",
    "    pickle.dump(params, file)"
   ]
  },
  {
   "cell_type": "code",
   "execution_count": null,
   "id": "bb296ce4-afbf-40a8-9f7b-027f5072b6dd",
   "metadata": {
    "scrolled": true
   },
   "outputs": [
    {
     "name": "stdout",
     "output_type": "stream",
     "text": [
      "Preparaing batches\n",
      "..................\n",
      "epoch:   1                    train:   valid:\n",
      "    loss [a.u.]                0.003    0.002\n",
      "    mono mae [kcal/mol]      0.043    0.035\n",
      "    dipo mae [kcal/mol]      0.007    0.006\n"
     ]
    }
   ],
   "source": [
    "params = train_model(\n",
    "  key=train_key,\n",
    "  model=message_passing_model,\n",
    "  train_data=train_data,\n",
    "  valid_data=valid_data,\n",
    "  num_epochs=10,\n",
    "  learning_rate=learning_rate,\n",
    "  batch_size=batch_size,\n",
    "  restart=params,\n",
    ")"
   ]
  },
  {
   "cell_type": "code",
   "execution_count": null,
   "id": "9ec6911f-bb55-4893-836d-c665e3d1c9d3",
   "metadata": {},
   "outputs": [],
   "source": [
    "import pickle\n",
    "# open a file, where you ant to store the data\n",
    "with open('dipo_mono_params.pkl', 'wb') as file:\n",
    "    pickle.dump(params, file)"
   ]
  },
  {
   "cell_type": "code",
   "execution_count": 47,
   "id": "a1b0fbf0-e871-4ba8-8848-f754e7024895",
   "metadata": {},
   "outputs": [
    {
     "name": "stdout",
     "output_type": "stream",
     "text": [
      "params\n",
      "Dense_0\n",
      "0+\n",
      "(16,) 16\n",
      "(16, 16) 256\n",
      "1-\n",
      "(16, 16) 256\n",
      "2+\n",
      "(16, 16) 256\n",
      "Dense_1\n",
      "0+\n",
      "(16,) 16\n",
      "(16, 16) 256\n",
      "1-\n",
      "(16, 16) 256\n",
      "2+\n",
      "(16, 16) 256\n",
      "Dense_2\n",
      "0+\n",
      "(16,) 16\n",
      "(16, 16) 256\n",
      "0-\n",
      "(16, 16) 256\n",
      "1+\n",
      "(16, 16) 256\n",
      "1-\n",
      "(16, 16) 256\n",
      "2+\n",
      "(16, 16) 256\n",
      "2-\n",
      "(16, 16) 256\n",
      "Dense_3\n",
      "0+\n",
      "(16,) 16\n",
      "(16, 16) 256\n",
      "0-\n",
      "(16, 16) 256\n",
      "1+\n",
      "(16, 16) 256\n",
      "1-\n",
      "(16, 16) 256\n",
      "2+\n",
      "(16, 16) 256\n",
      "2-\n",
      "(16, 16) 256\n",
      "Dense_4\n",
      "0+\n",
      "(16,) 16\n",
      "(16, 16) 256\n",
      "1-\n",
      "(16, 16) 256\n",
      "2+\n",
      "(16, 16) 256\n",
      "Dense_5\n",
      "0+\n",
      "(16,) 16\n",
      "(16, 16) 256\n",
      "1-\n",
      "(16, 16) 256\n",
      "2+\n",
      "(16, 16) 256\n",
      "Dense_6\n",
      "(16, 1) 16\n",
      "Embed_0\n",
      "(18, 1, 1, 16) 288\n",
      "MessagePass_0\n",
      "filter\n",
      "0+\n",
      "(16, 16) 256\n",
      "1-\n",
      "(16, 16) 256\n",
      "2+\n",
      "(16, 16) 256\n",
      "tensor\n",
      "(1, 3, 1, 1, 1, 3, 16) 144\n",
      "MessagePass_1\n",
      "filter\n",
      "0+\n",
      "(16, 16) 256\n",
      "1-\n",
      "(16, 16) 256\n",
      "2+\n",
      "(16, 16) 256\n",
      "tensor\n",
      "(1, 3, 1, 3, 2, 3, 16) 864\n",
      "MessagePass_2\n",
      "filter\n",
      "0+\n",
      "(16, 16) 256\n",
      "1-\n",
      "(16, 16) 256\n",
      "2+\n",
      "(16, 16) 256\n",
      "tensor\n",
      "(1, 3, 2, 3, 1, 3, 16) 864\n",
      "TensorDense_0\n",
      "dense\n",
      "0+\n",
      "(32,) 32\n",
      "(16, 32) 512\n",
      "1-\n",
      "(16, 32) 512\n",
      "2+\n",
      "(16, 32) 512\n",
      "tensor\n",
      "(1, 3, 1, 3, 1, 2, 16) 288\n",
      "(18,) 18\n"
     ]
    },
    {
     "data": {
      "text/plain": [
       "12594"
      ]
     },
     "execution_count": 47,
     "metadata": {},
     "output_type": "execute_result"
    }
   ],
   "source": [
    "# params[\"params\"]\n",
    "\n",
    "def count_shape(array):\n",
    "    ans = 1\n",
    "    for shape in array.shape:\n",
    "        ans *= shape\n",
    "    return ans\n",
    "\n",
    "def count_parameters(d):\n",
    "    if not isinstance(d, dict):  # Base case: not a dictionary\n",
    "        return 0\n",
    "    count = 0\n",
    "    for key, value in d.items():\n",
    "        if isinstance(value, dict):\n",
    "            print(key)\n",
    "            count += count_parameters(value)  # Recursive call if value is a dictionary\n",
    "        else:\n",
    "            print(value.shape, count_shape(value))\n",
    "            count += count_shape(value)  # Count the parameter if it's not a dictionary\n",
    "    return count\n",
    "\n",
    "count_parameters(params)"
   ]
  },
  {
   "cell_type": "code",
   "execution_count": 48,
   "id": "6df08175-4d7d-484d-95f6-c7a528fb3ce3",
   "metadata": {},
   "outputs": [],
   "source": [
    "# valid_data"
   ]
  },
  {
   "cell_type": "code",
   "execution_count": 49,
   "id": "d2f3d582-a761-4fb5-bb8e-a3e31452f047",
   "metadata": {},
   "outputs": [],
   "source": [
    "valid_batches = prepare_batches(data_key, valid_data, 100)"
   ]
  },
  {
   "cell_type": "code",
   "execution_count": 50,
   "id": "07e6bc04-dd58-4b5c-b131-6d2068a9a7b6",
   "metadata": {},
   "outputs": [],
   "source": [
    "batch = valid_batches[0]\n",
    "mono, dipo = message_passing_model.apply(\n",
    "    params,\n",
    "    atomic_numbers=batch['atomic_numbers'],\n",
    "    positions=batch['positions'],\n",
    "    dst_idx=batch['dst_idx'],\n",
    "    src_idx=batch['src_idx'],\n",
    "    batch_segments=batch['batch_segments'],\n",
    "    batch_size=len(valid_data[\"atomic_numbers\"])\n",
    ")"
   ]
  },
  {
   "cell_type": "code",
   "execution_count": 51,
   "id": "ae591265-4a05-4b74-af1d-f8e88c55dba8",
   "metadata": {},
   "outputs": [],
   "source": [
    "nonzeros = jnp.nonzero(batch[\"mono\"])"
   ]
  },
  {
   "cell_type": "code",
   "execution_count": 52,
   "id": "6cb339d3-f83e-4cfa-80f7-4b8feb15cfbd",
   "metadata": {
    "scrolled": true
   },
   "outputs": [
    {
     "data": {
      "image/png": "[encoded data removed]",
      "text/plain": [
       "<Figure size 640x480 with 1 Axes>"
      ]
     },
     "metadata": {},
     "output_type": "display_data"
    }
   ],
   "source": [
    "import matplotlib.pyplot as plt\n",
    "# for i in range(10):\n",
    "#     plt.scatter(batch_gt[i], patch_pred[i])\n",
    "plt.scatter(dipo[nonzeros], batch[\"dipo\"][nonzeros])\n",
    "plt.plot([-1,1],[-1,1])\n",
    "plt.xlim(-.1,.1)\n",
    "plt.ylim(-.1,.1)\n",
    "ax = plt.gca()\n",
    "ax.set_aspect(\"equal\")"
   ]
  },
  {
   "cell_type": "code",
   "execution_count": 53,
   "id": "cef2ab27-213a-4f66-adff-aa5fc579bcaf",
   "metadata": {},
   "outputs": [
    {
     "name": "stdout",
     "output_type": "stream",
     "text": [
      "[-0.01391862  0.01276062  0.00163519] \t\t [-0.01152548  0.02594237 -0.00064136]\n",
      "[0.03399265 0.02324743 0.00793063] \t\t [0.0546661  0.02994877 0.01163131]\n",
      "[-0.05463618 -0.01957258 -0.00879691] \t\t [-0.00439058 -0.01236105 -0.00192938]\n",
      "[0.03811539 0.03001646 0.00975946] \t\t [0.0403434  0.02872955 0.00935162]\n",
      "[-0.0244843  -0.01396899 -0.00467729] \t\t [-0.03784621 -0.04116521 -0.01219647]\n",
      "[ 0.01425597 -0.02540948 -0.00417713] \t\t [ 0.01260076 -0.04291096 -0.00975009]\n",
      "[ 0.00952374 -0.01168921  0.00162902] \t\t [ 0.03841402 -0.01560755 -0.00377197]\n",
      "[-0.04363652  0.00754026 -0.00160085] \t\t [-0.05187734  0.00516741 -0.00339097]\n",
      "[-0.01459709  0.05624713  0.01477748] \t\t [-0.02952331  0.04074927  0.00860124]\n",
      "[ 0.03783814 -0.00519801 -0.00082912] \t\t [ 0.05979224 -0.00202199 -0.00228604]\n"
     ]
    }
   ],
   "source": [
    "for i in range(10):\n",
    "    print(dipo[nonzeros][i], \"\\t\\t\", batch[\"dipo\"][nonzeros][i])"
   ]
  },
  {
   "cell_type": "code",
   "execution_count": 54,
   "id": "cb9d7ba1-b0d8-40ee-b584-7afbe18d9f2d",
   "metadata": {},
   "outputs": [
    {
     "data": {
      "image/png": "[encoded data removed]",
      "text/plain": [
       "<Figure size 640x480 with 1 Axes>"
      ]
     },
     "metadata": {},
     "output_type": "display_data"
    }
   ],
   "source": [
    "import matplotlib.pyplot as plt\n",
    "# for i in range(10):\n",
    "#     plt.scatter(batch_gt[i], patch_pred[i])\n",
    "plt.scatter(mono[nonzeros], batch[\"mono\"][nonzeros])\n",
    "plt.plot([-1,1],[-1,1])\n",
    "plt.xlim(-1,1)\n",
    "plt.ylim(-1,1)\n",
    "ax = plt.gca()\n",
    "ax.set_aspect(\"equal\")"
   ]
  },
  {
   "cell_type": "code",
   "execution_count": 31,
   "id": "84ce65fe-b61b-4200-a1ca-b76a69a13725",
   "metadata": {},
   "outputs": [],
   "source": [
    "key, rotation_key = jax.random.split(data_key)\n",
    "rotation = e3x.so3.random_rotation(rotation_key)"
   ]
  },
  {
   "cell_type": "code",
   "execution_count": 32,
   "id": "ad910536-9845-4c59-90ef-9d28cc6265cd",
   "metadata": {},
   "outputs": [
    {
     "data": {
      "text/plain": [
       "Array([[ 0.05268008,  0.32747042, -0.9433917 ],\n",
       "       [ 0.9180192 , -0.38768542, -0.08331031],\n",
       "       [-0.3930209 , -0.8616629 , -0.3210473 ]], dtype=float32)"
      ]
     },
     "execution_count": 32,
     "metadata": {},
     "output_type": "execute_result"
    }
   ],
   "source": [
    "rotation"
   ]
  },
  {
   "cell_type": "code",
   "execution_count": 33,
   "id": "727620c3-d858-43ee-9e44-72ab27fa9baf",
   "metadata": {},
   "outputs": [],
   "source": [
    "batch = valid_batches[0]\n",
    "mono_rot, dipo_rot = message_passing_model.apply(\n",
    "    params,\n",
    "    atomic_numbers=batch['atomic_numbers'],\n",
    "    positions=batch['positions']@rotation,\n",
    "    dst_idx=batch['dst_idx'],\n",
    "    src_idx=batch['src_idx'],\n",
    "    batch_segments=batch['batch_segments'],\n",
    "    batch_size=len(valid_data[\"atomic_numbers\"])\n",
    ")"
   ]
  },
  {
   "cell_type": "code",
   "execution_count": 34,
   "id": "2c1f5d83-2a5c-4afc-93d5-e3cbf0421bf2",
   "metadata": {},
   "outputs": [],
   "source": [
    "nonzeros = jnp.nonzero(batch[\"mono\"])"
   ]
  },
  {
   "cell_type": "code",
   "execution_count": 35,
   "id": "18a1ffdb-3e63-4831-aaaa-310da262760e",
   "metadata": {},
   "outputs": [
    {
     "data": {
      "text/plain": [
       "<matplotlib.collections.PathCollection at 0x2b34a2b8abe0>"
      ]
     },
     "execution_count": 35,
     "metadata": {},
     "output_type": "execute_result"
    },
    {
     "data": {
      "image/png": "[encoded data removed]",
      "text/plain": [
       "<Figure size 640x480 with 1 Axes>"
      ]
     },
     "metadata": {},
     "output_type": "display_data"
    }
   ],
   "source": [
    "plt.scatter(dipo[nonzeros]@rotation, dipo_rot[nonzeros])"
   ]
  },
  {
   "cell_type": "code",
   "execution_count": 45,
   "id": "62e051fb-ab40-4f27-8e20-45e56ba5f2ca",
   "metadata": {},
   "outputs": [],
   "source": [
    "# mean_squared_loss(mono, batch[\"mono\"], 10)"
   ]
  },
  {
   "cell_type": "code",
   "execution_count": 46,
   "id": "725139ca-411e-4727-a477-100d65cedea7",
   "metadata": {},
   "outputs": [],
   "source": [
    "# mean_absolute_error(mono, batch[\"mono\"], 10)"
   ]
  },
  {
   "cell_type": "code",
   "execution_count": null,
   "id": "b9643ca9-e9a3-48e6-b2dc-608b305c8cf8",
   "metadata": {},
   "outputs": [],
   "source": []
  }
 ],
 "metadata": {
  "kernelspec": {
   "display_name": "jaxgpu11",
   "language": "python",
   "name": "jaxgpu11"
  },
  "language_info": {
   "codemirror_mode": {
    "name": "ipython",
    "version": 3
   },
   "file_extension": ".py",
   "mimetype": "text/x-python",
   "name": "python",
   "nbconvert_exporter": "python",
   "pygments_lexer": "ipython3",
   "version": "3.9.18"
  }
 },
 "nbformat": 4,
 "nbformat_minor": 5
}
