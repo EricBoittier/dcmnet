{
 "cells": [
  {
   "cell_type": "code",
   "execution_count": 2,
   "id": "deabc42c-09c6-41cb-8350-b525e5b79fb0",
   "metadata": {},
   "outputs": [
    {
     "name": "stdout",
     "output_type": "stream",
     "text": [
      "The autoreload extension is already loaded. To reload it, use:\n",
      "  %reload_ext autoreload\n",
      "[CpuDevice(id=0)]\n",
      "cpu\n",
      "[CpuDevice(id=0)]\n"
     ]
    },
    {
     "data": {
      "text/plain": [
       "<Figure size 640x480 with 0 Axes>"
      ]
     },
     "metadata": {},
     "output_type": "display_data"
    },
    {
     "data": {
      "text/plain": [
       "<Figure size 100x100 with 0 Axes>"
      ]
     },
     "metadata": {},
     "output_type": "display_data"
    }
   ],
   "source": [
    "%load_ext autoreload\n",
    "%autoreload 2\n",
    "import os\n",
    "os.environ[\"XLA_PYTHON_CLIENT_MEM_FRACTION\"] = \".99\"\n",
    "os.environ[\"CUDA_VISIBLE_DEVICES\"] = \"\"\n",
    "\n",
    "\n",
    "\n",
    "import pandas as pd\n",
    "import dcmnet\n",
    "import sys\n",
    "\n",
    "sys.path.append(\"/home/boittier/jaxeq/dcmnet\")\n",
    "# print(sys.path)\n",
    "from dcmnet.models import DCM1, DCM2, DCM3, DCM4, dcm1_params, dcm2_params, dcm3_params, dcm4_params\n",
    "from dcmnet.modules import MessagePassingModel\n",
    "from dcmnet.data import prepare_datasets\n",
    "\n",
    "import numpy as np\n",
    "\n",
    "def atom_centered_dipole(dcm, com, q):\n",
    "    dipole_out = np.zeros(3)\n",
    "    for i, _ in enumerate(dcm):\n",
    "        dipole_out += q[i] * (_ - com)\n",
    "    # print(dipole_out*2.5417464519)\n",
    "    return np.linalg.norm(dipole_out)* 4.80320\n",
    "\n",
    "import jax\n",
    "import jax.numpy as jnp\n",
    "import pickle\n",
    "from tensorboardX import SummaryWriter\n",
    "import time\n",
    "from dcmnet.utils import safe_mkdir\n",
    "from dcmnet.training import train_model\n",
    "from dcmnet.training_dipole import train_model_dipo\n",
    "from pathlib import Path\n",
    "from dcmnet.data import prepare_batches, prepare_datasets\n",
    "from dcmnet.utils import apply_model\n",
    "from dcmnet.plotting import evaluate_dc, plot_esp, plot_model\n",
    "import optax\n",
    "from dcmnet.analysis import create_model_and_params\n",
    "import matplotlib.pyplot as plt\n",
    "from tqdm import tqdm\n",
    "import random\n",
    "\n",
    "from dcmnet.rdkit_utils import get_mol_from_id\n",
    "\n",
    "\n",
    "# import pybel\n",
    "\n",
    "devices = jax.local_devices()\n",
    "print(devices)\n",
    "print(jax.default_backend())\n",
    "print(jax.devices())\n"
   ]
  },
  {
   "cell_type": "code",
   "execution_count": 174,
   "id": "9f12ccf1-0e4c-4662-8469-a6a31f333987",
   "metadata": {},
   "outputs": [],
   "source": [
    "import pandas as pd"
   ]
  },
  {
   "cell_type": "code",
   "execution_count": 269,
   "id": "f6069c27-ea8f-4890-9c98-dfe4ac4cccb2",
   "metadata": {},
   "outputs": [],
   "source": [
    "mbis = Path(\"/pchem-data/meuwly/boittier/home/analysis/MBIS\")\n",
    "mbisdata = mbis.glob(\"*pkl\")"
   ]
  },
  {
   "cell_type": "code",
   "execution_count": 270,
   "id": "a3b35ae2-01c3-4da1-9248-6581a8660afd",
   "metadata": {},
   "outputs": [],
   "source": [
    "data = {_.stem: pd.read_pickle(_) for _ in mbisdata}"
   ]
  },
  {
   "cell_type": "code",
   "execution_count": 271,
   "id": "514690f6-a821-4d41-a833-0e8db3e33d5d",
   "metadata": {},
   "outputs": [],
   "source": [
    "# data"
   ]
  },
  {
   "cell_type": "code",
   "execution_count": 272,
   "id": "a4d8e1c0-ffd6-4e69-9890-42be88d0de21",
   "metadata": {},
   "outputs": [],
   "source": [
    "# list(data.keys())"
   ]
  },
  {
   "cell_type": "code",
   "execution_count": 273,
   "id": "5f113b72-1688-4a34-b4ae-b2ebcc0bc216",
   "metadata": {},
   "outputs": [
    {
     "data": {
      "text/plain": [
       "{'mono': array([-1.23295083e-03, -3.69578099e-04,  1.02163980e-03, ...,\n",
       "        -7.55053797e-10, -7.55053797e-10, -7.55053797e-10]),\n",
       " 'dipo': array([-1.63698005e-03, -9.04565183e-04,  3.50989660e-04, ...,\n",
       "        -7.07874665e-10, -7.07874665e-10, -7.07874665e-10]),\n",
       " 'quad': array([-1.58911597e-03, -8.31333733e-04,  4.46683927e-04, ...,\n",
       "        -7.07871231e-10, -7.07871231e-10, -7.07871231e-10]),\n",
       " 'esp': array([-0.00149051, -0.00068025,  0.00064643, ...,  0.        ,\n",
       "         0.        ,  0.        ]),\n",
       " 'closest_atom_type': array([7, 7, 1, ..., 1, 1, 1]),\n",
       " 'closest_atom': array([ 0,  0,  9, ..., 12, 12, 12]),\n",
       " 'mask': array([ True,  True,  True, ...,  True,  True,  True]),\n",
       " 'rmse_mono': Array(1.7298307, dtype=float32),\n",
       " 'rmse_dipo': Array(1.5323756, dtype=float32),\n",
       " 'rmse_quad': Array(1.3855447, dtype=float32),\n",
       " 'rmse_mono_masked': Array(0.82494813, dtype=float32),\n",
       " 'rmse_dipo_masked': Array(0.5570156, dtype=float32),\n",
       " 'rmse_quad_masked': Array(0.4212189, dtype=float32),\n",
       " 'D_mono': Array([-0.97213125,  1.28026   , -0.43223888], dtype=float32),\n",
       " 'D_dipo': Array([-1.0312567 ,  1.3210479 , -0.32634538], dtype=float32),\n",
       " 'D_mae_mono': Array(0.17521931, dtype=float32),\n",
       " 'D_mae_dipo': Array(0.0012325, dtype=float32),\n",
       " 'D': 4.3420194581699905,\n",
       " 'D_xyz': array([-1.0318205,  1.3217128, -0.3265713])}"
      ]
     },
     "execution_count": 273,
     "metadata": {},
     "output_type": "execute_result"
    }
   ],
   "source": [
    "data[\"dsgdb9nsd_128942\"]"
   ]
  },
  {
   "cell_type": "code",
   "execution_count": 274,
   "id": "5707ee8c-76bb-486b-ac07-078f83ce98a0",
   "metadata": {},
   "outputs": [],
   "source": [
    "failed = pd.read_csv(\"/pchem-data/meuwly/boittier/home/jaxeq/data/qm9-fails.csv\")\n",
    "failed = list(failed[\"0\"])"
   ]
  },
  {
   "cell_type": "code",
   "execution_count": 275,
   "id": "382d4afd-788a-42d9-bf7e-f5c073fb53f2",
   "metadata": {},
   "outputs": [],
   "source": [
    "data = {k:v for k,v in data.items() if k not in failed}"
   ]
  },
  {
   "cell_type": "code",
   "execution_count": null,
   "id": "1038a746-3477-41f7-b060-c047b11e761c",
   "metadata": {
    "scrolled": true
   },
   "outputs": [],
   "source": []
  },
  {
   "cell_type": "code",
   "execution_count": 276,
   "id": "42c74d85-5810-4fc0-b079-36d30a50671c",
   "metadata": {},
   "outputs": [
    {
     "data": {
      "text/plain": [
       "(6506, 6506)"
      ]
     },
     "execution_count": 276,
     "metadata": {},
     "output_type": "execute_result"
    }
   ],
   "source": [
    "rmse_mono_masked = [float(_[\"rmse_mono_masked\"]) for _ in data.values()]\n",
    "rmse_dipo_masked = [float(_[\"rmse_dipo_masked\"]) for _ in data.values()]\n",
    "rmse_quad_masked = [float(_[\"rmse_quad_masked\"]) for _ in data.values()]\n",
    "D_mae_mono = [float(_[\"D_mae_mono\"]) for _ in data.values()]\n",
    "D_mae_dipo = [float(_[\"D_mae_dipo\"]) for _ in data.values()]\n",
    "keys = list(data.keys())\n",
    "len(keys), len(rmse_mono_masked)"
   ]
  },
  {
   "cell_type": "code",
   "execution_count": 316,
   "id": "702847a7-cd47-441c-9b3a-a299e04955bc",
   "metadata": {},
   "outputs": [
    {
     "data": {
      "text/html": [
       "<div>\n",
       "<style scoped>\n",
       "    .dataframe tbody tr th:only-of-type {\n",
       "        vertical-align: middle;\n",
       "    }\n",
       "\n",
       "    .dataframe tbody tr th {\n",
       "        vertical-align: top;\n",
       "    }\n",
       "\n",
       "    .dataframe thead th {\n",
       "        text-align: right;\n",
       "    }\n",
       "</style>\n",
       "<table border=\"1\" class=\"dataframe\">\n",
       "  <thead>\n",
       "    <tr style=\"text-align: right;\">\n",
       "      <th></th>\n",
       "      <th>rmse_mono_masked</th>\n",
       "      <th>rmse_dipo_masked</th>\n",
       "      <th>rmse_quad_masked</th>\n",
       "      <th>D_mae_mono</th>\n",
       "      <th>D_mae_dipo</th>\n",
       "    </tr>\n",
       "  </thead>\n",
       "  <tbody>\n",
       "    <tr>\n",
       "      <th>count</th>\n",
       "      <td>6506.000000</td>\n",
       "      <td>6506.000000</td>\n",
       "      <td>6506.000000</td>\n",
       "      <td>6506.000000</td>\n",
       "      <td>6506.000000</td>\n",
       "    </tr>\n",
       "    <tr>\n",
       "      <th>mean</th>\n",
       "      <td>1.098358</td>\n",
       "      <td>0.662090</td>\n",
       "      <td>0.492402</td>\n",
       "      <td>0.194850</td>\n",
       "      <td>0.000882</td>\n",
       "    </tr>\n",
       "    <tr>\n",
       "      <th>std</th>\n",
       "      <td>0.337707</td>\n",
       "      <td>0.172121</td>\n",
       "      <td>0.108029</td>\n",
       "      <td>0.099033</td>\n",
       "      <td>0.000427</td>\n",
       "    </tr>\n",
       "    <tr>\n",
       "      <th>min</th>\n",
       "      <td>0.328302</td>\n",
       "      <td>0.225493</td>\n",
       "      <td>0.187964</td>\n",
       "      <td>0.000123</td>\n",
       "      <td>0.000002</td>\n",
       "    </tr>\n",
       "    <tr>\n",
       "      <th>25%</th>\n",
       "      <td>0.861784</td>\n",
       "      <td>0.542595</td>\n",
       "      <td>0.419100</td>\n",
       "      <td>0.122613</td>\n",
       "      <td>0.000567</td>\n",
       "    </tr>\n",
       "    <tr>\n",
       "      <th>50%</th>\n",
       "      <td>1.035795</td>\n",
       "      <td>0.645284</td>\n",
       "      <td>0.482970</td>\n",
       "      <td>0.181789</td>\n",
       "      <td>0.000834</td>\n",
       "    </tr>\n",
       "    <tr>\n",
       "      <th>75%</th>\n",
       "      <td>1.287192</td>\n",
       "      <td>0.757990</td>\n",
       "      <td>0.550798</td>\n",
       "      <td>0.253889</td>\n",
       "      <td>0.001148</td>\n",
       "    </tr>\n",
       "    <tr>\n",
       "      <th>max</th>\n",
       "      <td>2.938473</td>\n",
       "      <td>1.538716</td>\n",
       "      <td>1.061774</td>\n",
       "      <td>0.652840</td>\n",
       "      <td>0.005202</td>\n",
       "    </tr>\n",
       "  </tbody>\n",
       "</table>\n",
       "</div>"
      ],
      "text/plain": [
       "       rmse_mono_masked  rmse_dipo_masked  rmse_quad_masked   D_mae_mono  \\\n",
       "count       6506.000000       6506.000000       6506.000000  6506.000000   \n",
       "mean           1.098358          0.662090          0.492402     0.194850   \n",
       "std            0.337707          0.172121          0.108029     0.099033   \n",
       "min            0.328302          0.225493          0.187964     0.000123   \n",
       "25%            0.861784          0.542595          0.419100     0.122613   \n",
       "50%            1.035795          0.645284          0.482970     0.181789   \n",
       "75%            1.287192          0.757990          0.550798     0.253889   \n",
       "max            2.938473          1.538716          1.061774     0.652840   \n",
       "\n",
       "        D_mae_dipo  \n",
       "count  6506.000000  \n",
       "mean      0.000882  \n",
       "std       0.000427  \n",
       "min       0.000002  \n",
       "25%       0.000567  \n",
       "50%       0.000834  \n",
       "75%       0.001148  \n",
       "max       0.005202  "
      ]
     },
     "execution_count": 316,
     "metadata": {},
     "output_type": "execute_result"
    }
   ],
   "source": [
    "mbis_df = pd.DataFrame({\"id\": keys, \n",
    "                        \"rmse_mono_masked\": rmse_mono_masked,\n",
    "                       \"rmse_dipo_masked\": rmse_dipo_masked,\n",
    "                        \"rmse_quad_masked\": rmse_quad_masked,\n",
    "                        \"D_mae_mono\": D_mae_mono,\n",
    "                        \"D_mae_dipo\": D_mae_dipo,\n",
    "                       })\n",
    "mbis_df.describe()"
   ]
  },
  {
   "cell_type": "code",
   "execution_count": 188,
   "id": "eb6fe6c4-f4d5-42f5-9367-09f985a36d4f",
   "metadata": {},
   "outputs": [],
   "source": [
    "analysis_dirs = list(Path(\"/pchem-data/meuwly/boittier/home/analysis/\").glob(\"202410*dcm*\"))\n",
    "# mbisdata = mbis.glob(\"*pkl\")"
   ]
  },
  {
   "cell_type": "code",
   "execution_count": 189,
   "id": "f3e886f7-6aa9-4536-a05f-79154f2fc755",
   "metadata": {},
   "outputs": [
    {
     "name": "stdout",
     "output_type": "stream",
     "text": [
      "0 /pchem-data/meuwly/boittier/home/analysis/20241002-180908dcm-4-w-10000\n",
      "1 /pchem-data/meuwly/boittier/home/analysis/20241002-174336dcm-3-w-10000\n",
      "2 /pchem-data/meuwly/boittier/home/analysis/20241002-175338dcm-2-w-10000\n",
      "3 /pchem-data/meuwly/boittier/home/analysis/20241002-174336dcm-2-w-10000\n",
      "4 /pchem-data/meuwly/boittier/home/analysis/20241002-180732dcm-3-w-10000\n",
      "5 /pchem-data/meuwly/boittier/home/analysis/20241002-180916dcm-2-w-10000\n",
      "6 /pchem-data/meuwly/boittier/home/analysis/20241002-180941dcm-2-w-10000\n",
      "7 /pchem-data/meuwly/boittier/home/analysis/20241002-180943dcm-4-w-10000\n",
      "8 /pchem-data/meuwly/boittier/home/analysis/20241002-180930dcm-4-w-10000\n",
      "9 /pchem-data/meuwly/boittier/home/analysis/20241002-180931dcm-3-w-10000\n",
      "10 /pchem-data/meuwly/boittier/home/analysis/20241002-182242dcm-4-w-10000\n",
      "11 /pchem-data/meuwly/boittier/home/analysis/20241002-182301dcm-3-w-10000\n"
     ]
    }
   ],
   "source": [
    "for i, _ in enumerate(analysis_dirs):\n",
    "    print(i, _)"
   ]
  },
  {
   "cell_type": "code",
   "execution_count": 190,
   "id": "9f770823-427b-4151-bca8-1e3c73810b50",
   "metadata": {},
   "outputs": [],
   "source": [
    "pickles = [list(_.glob(\"*pkl\")) for _ in analysis_dirs]"
   ]
  },
  {
   "cell_type": "code",
   "execution_count": 332,
   "id": "2802ce83-4c8a-43fa-a843-9bdb812361e5",
   "metadata": {},
   "outputs": [
    {
     "data": {
      "text/plain": [
       "dict_keys(['mono', 'dipo', 'D_xyz_pred', 'D_mae', 'esp_pred', 'mask', 'closest_atom_type', 'rmse_model', 'rmse_model_masked'])"
      ]
     },
     "execution_count": 332,
     "metadata": {},
     "output_type": "execute_result"
    }
   ],
   "source": [
    "pd.read_pickle(pickles[0][0]).keys()"
   ]
  },
  {
   "cell_type": "code",
   "execution_count": 362,
   "id": "ccae7214-0419-4cfa-8093-37ce92422700",
   "metadata": {},
   "outputs": [],
   "source": [
    "names = [analysis_dirs[i].stem for i in range(len(analysis_dirs))]\n",
    "n = 11"
   ]
  },
  {
   "cell_type": "code",
   "execution_count": 404,
   "id": "b878aa17-71a9-458e-ad93-da054e8f6686",
   "metadata": {},
   "outputs": [
    {
     "name": "stderr",
     "output_type": "stream",
     "text": [
      "100%|█████████████████████████████████████████████████████████████████████████████████████████| 6785/6785 [00:38<00:00, 177.18it/s]\n",
      "100%|█████████████████████████████████████████████████████████████████████████████████████████| 6785/6785 [00:39<00:00, 170.42it/s]\n",
      "100%|█████████████████████████████████████████████████████████████████████████████████████████| 6785/6785 [00:38<00:00, 176.40it/s]\n"
     ]
    },
    {
     "data": {
      "image/png": "[encoded data removed]",
      "text/plain": [
       "<Figure size 1300x300 with 15 Axes>"
      ]
     },
     "metadata": {},
     "output_type": "display_data"
    }
   ],
   "source": [
    "charge_comparison = pd.read_csv(\"charge-comparison.csv\")\n",
    "\n",
    "colors_m = {2: \"palegreen\", 11: \"limegreen\", 10: \"darkgreen\" }\n",
    "\n",
    "fig, axes = plt.subplots(3,5, figsize=(13,3))\n",
    "plt.subplots_adjust(wspace=0.5)\n",
    "\n",
    "for n in [2,11,10]:\n",
    "\n",
    "    colors = {\"mbis_q\": \"k\", \"cgenff_q\": \"goldenrod\", names[n]: colors_m[n]}\n",
    "    \n",
    "    charge_data = []\n",
    "    for i in tqdm(range(len(pickles[n]))):\n",
    "        test_pkl = pickles[n][i]\n",
    "        key = test_pkl.stem\n",
    "        test_data = pd.read_pickle(test_pkl)\n",
    "        \n",
    "        query = charge_comparison[charge_comparison[\"qm9_id\"] == key]\n",
    "        qs = test_data[\"mono\"].sum(axis=-1)[:,:len(query)].flatten()\n",
    "        query[names[n]] = qs\n",
    "        charge_data.append(query)\n",
    "    \n",
    "    test_charges = pd.concat(charge_data)\n",
    "    \n",
    "    for i, e in enumerate(test_charges.element.unique()):\n",
    "        q_keys = [\"mbis_q\", \"cgenff_q\", names[n]]\n",
    "        tmp = test_charges[test_charges[\"element\"] == e]\n",
    "        min_ = min([tmp[k].min() for k in q_keys]) * 1.1\n",
    "        max_ = max([tmp[k].max() for k in q_keys]) * 1.1\n",
    "        max_ = max([abs(min_), abs(max_)])\n",
    "        for j, k in enumerate(q_keys):\n",
    "            axes[j,i].hist(tmp[k], bins=100, range=(max_*-1,max_), alpha=0.35, density=True, label=k, color=colors[k])\n",
    "            axes[j,i].axvline(tmp[k].min(),color=colors[k])\n",
    "            axes[j,i].axvline(tmp[k].max(),color=colors[k])\n",
    "            if j < 2:\n",
    "                axes[j,i].set_xticks([])\n",
    "        axes[0, i].text(0.5, 1.05, f\"{e}\", transform=axes[0,i].transAxes, fontsize=20)\n"
   ]
  },
  {
   "cell_type": "code",
   "execution_count": null,
   "id": "aa0a8439-890b-4fc2-ae37-b78dc040cf13",
   "metadata": {},
   "outputs": [],
   "source": [
    "\n",
    "\n",
    "\n"
   ]
  },
  {
   "cell_type": "code",
   "execution_count": 191,
   "id": "d538ebba-19a5-478f-bd6e-dc346b494fd6",
   "metadata": {},
   "outputs": [],
   "source": [
    "def get_df(pickles_list, name):\n",
    "    data = {_.stem: pd.read_pickle(_) for _ in pickles_list}\n",
    "    keys = [k for k in list(data.keys()) if k not in failed]\n",
    "    run = [name for k in keys]\n",
    "    n_dcm = [int(_.split(\"-\")[2]) for _ in run]\n",
    "    rmse_masked = [float(data[k][\"rmse_model_masked\"]) for k in keys]\n",
    "    D_mae = [float(data[k][\"D_mae\"]) for k in keys]\n",
    "    \n",
    "    df = pd.DataFrame({\"id\": keys, \"run\": run , \"n_dcm\": n_dcm, \"rmse\": rmse_masked, \"D_mae\": D_mae})\n",
    "    return df"
   ]
  },
  {
   "cell_type": "code",
   "execution_count": 333,
   "id": "9772f592-13b3-4a60-aaab-7d55b6041512",
   "metadata": {},
   "outputs": [],
   "source": [
    "dfs = [get_df(pickles[i], str(analysis_dirs[i].stem)) for i in [2,5,7,9,10,11]]"
   ]
  },
  {
   "cell_type": "code",
   "execution_count": 334,
   "id": "052f850b-b7be-46a3-b935-3bf69c69b6ee",
   "metadata": {},
   "outputs": [
    {
     "data": {
      "text/html": [
       "<div>\n",
       "<style scoped>\n",
       "    .dataframe tbody tr th:only-of-type {\n",
       "        vertical-align: middle;\n",
       "    }\n",
       "\n",
       "    .dataframe tbody tr th {\n",
       "        vertical-align: top;\n",
       "    }\n",
       "\n",
       "    .dataframe thead tr th {\n",
       "        text-align: left;\n",
       "    }\n",
       "\n",
       "    .dataframe thead tr:last-of-type th {\n",
       "        text-align: right;\n",
       "    }\n",
       "</style>\n",
       "<table border=\"1\" class=\"dataframe\">\n",
       "  <thead>\n",
       "    <tr>\n",
       "      <th></th>\n",
       "      <th colspan=\"8\" halign=\"left\">rmse</th>\n",
       "      <th colspan=\"8\" halign=\"left\">D_mae</th>\n",
       "    </tr>\n",
       "    <tr>\n",
       "      <th></th>\n",
       "      <th>count</th>\n",
       "      <th>mean</th>\n",
       "      <th>std</th>\n",
       "      <th>min</th>\n",
       "      <th>25%</th>\n",
       "      <th>50%</th>\n",
       "      <th>75%</th>\n",
       "      <th>max</th>\n",
       "      <th>count</th>\n",
       "      <th>mean</th>\n",
       "      <th>std</th>\n",
       "      <th>min</th>\n",
       "      <th>25%</th>\n",
       "      <th>50%</th>\n",
       "      <th>75%</th>\n",
       "      <th>max</th>\n",
       "    </tr>\n",
       "    <tr>\n",
       "      <th>n_dcm</th>\n",
       "      <th></th>\n",
       "      <th></th>\n",
       "      <th></th>\n",
       "      <th></th>\n",
       "      <th></th>\n",
       "      <th></th>\n",
       "      <th></th>\n",
       "      <th></th>\n",
       "      <th></th>\n",
       "      <th></th>\n",
       "      <th></th>\n",
       "      <th></th>\n",
       "      <th></th>\n",
       "      <th></th>\n",
       "      <th></th>\n",
       "      <th></th>\n",
       "    </tr>\n",
       "  </thead>\n",
       "  <tbody>\n",
       "    <tr>\n",
       "      <th>2</th>\n",
       "      <td>13012.0</td>\n",
       "      <td>0.828702</td>\n",
       "      <td>0.347256</td>\n",
       "      <td>0.249721</td>\n",
       "      <td>0.633142</td>\n",
       "      <td>0.763267</td>\n",
       "      <td>0.939923</td>\n",
       "      <td>9.491041</td>\n",
       "      <td>13012.0</td>\n",
       "      <td>0.129293</td>\n",
       "      <td>0.111184</td>\n",
       "      <td>0.001868</td>\n",
       "      <td>0.06763</td>\n",
       "      <td>0.105726</td>\n",
       "      <td>0.161341</td>\n",
       "      <td>2.886050</td>\n",
       "    </tr>\n",
       "    <tr>\n",
       "      <th>3</th>\n",
       "      <td>13012.0</td>\n",
       "      <td>0.649717</td>\n",
       "      <td>0.391702</td>\n",
       "      <td>0.185153</td>\n",
       "      <td>0.507767</td>\n",
       "      <td>0.599248</td>\n",
       "      <td>0.720375</td>\n",
       "      <td>25.625584</td>\n",
       "      <td>13012.0</td>\n",
       "      <td>0.107171</td>\n",
       "      <td>0.120505</td>\n",
       "      <td>0.001096</td>\n",
       "      <td>0.05598</td>\n",
       "      <td>0.087795</td>\n",
       "      <td>0.130679</td>\n",
       "      <td>7.525001</td>\n",
       "    </tr>\n",
       "    <tr>\n",
       "      <th>4</th>\n",
       "      <td>13012.0</td>\n",
       "      <td>0.615273</td>\n",
       "      <td>0.269523</td>\n",
       "      <td>0.162104</td>\n",
       "      <td>0.480656</td>\n",
       "      <td>0.559769</td>\n",
       "      <td>0.672150</td>\n",
       "      <td>7.099349</td>\n",
       "      <td>13012.0</td>\n",
       "      <td>0.105000</td>\n",
       "      <td>0.091757</td>\n",
       "      <td>0.001173</td>\n",
       "      <td>0.05416</td>\n",
       "      <td>0.086030</td>\n",
       "      <td>0.130066</td>\n",
       "      <td>2.662441</td>\n",
       "    </tr>\n",
       "  </tbody>\n",
       "</table>\n",
       "</div>"
      ],
      "text/plain": [
       "          rmse                                                              \\\n",
       "         count      mean       std       min       25%       50%       75%   \n",
       "n_dcm                                                                        \n",
       "2      13012.0  0.828702  0.347256  0.249721  0.633142  0.763267  0.939923   \n",
       "3      13012.0  0.649717  0.391702  0.185153  0.507767  0.599248  0.720375   \n",
       "4      13012.0  0.615273  0.269523  0.162104  0.480656  0.559769  0.672150   \n",
       "\n",
       "                    D_mae                                                   \\\n",
       "             max    count      mean       std       min      25%       50%   \n",
       "n_dcm                                                                        \n",
       "2       9.491041  13012.0  0.129293  0.111184  0.001868  0.06763  0.105726   \n",
       "3      25.625584  13012.0  0.107171  0.120505  0.001096  0.05598  0.087795   \n",
       "4       7.099349  13012.0  0.105000  0.091757  0.001173  0.05416  0.086030   \n",
       "\n",
       "                           \n",
       "            75%       max  \n",
       "n_dcm                      \n",
       "2      0.161341  2.886050  \n",
       "3      0.130679  7.525001  \n",
       "4      0.130066  2.662441  "
      ]
     },
     "execution_count": 334,
     "metadata": {},
     "output_type": "execute_result"
    }
   ],
   "source": [
    "DFS = pd.concat(dfs)\n",
    "DFS.groupby(\"n_dcm\").describe()"
   ]
  },
  {
   "cell_type": "code",
   "execution_count": 407,
   "id": "850cfc48-30ab-44b2-8000-9cdc55dff049",
   "metadata": {},
   "outputs": [
    {
     "data": {
      "text/plain": [
       "Text(0.5, 0, 'RMSE$_{\\\\mathrm{ESP}}$ [(kcal/mol)/$e$]')"
      ]
     },
     "execution_count": 407,
     "metadata": {},
     "output_type": "execute_result"
    },
    {
     "data": {
      "image/png": "[encoded data removed]",
      "text/plain": [
       "<Figure size 640x480 with 6 Axes>"
      ]
     },
     "metadata": {},
     "output_type": "display_data"
    }
   ],
   "source": [
    "fig, axes = plt.subplots(6,1, sharex=True, sharey=True)\n",
    "plt.subplots_adjust(hspace=0.5)\n",
    "\n",
    "axes[0].hist(mbis_df[\"rmse_mono_masked\"], bins=200, range=(0,3), alpha=0.4, density=True, color=\"k\")\n",
    "axes[0].axvline(mbis_df[\"rmse_mono_masked\"].median(), color=\"k\")\n",
    "axes[1].hist(mbis_df[\"rmse_dipo_masked\"], bins=200, range=(0,3), alpha=0.4, density=True, color=\"b\")\n",
    "axes[1].axvline(mbis_df[\"rmse_dipo_masked\"].median(), color=\"b\")\n",
    "axes[2].hist(mbis_df[\"rmse_quad_masked\"], bins=200, range=(0,3), alpha=0.4, density=True, color=\"r\")\n",
    "axes[2].axvline(mbis_df[\"rmse_quad_masked\"].median(), color=\"r\")\n",
    "\n",
    "colors_m = {2: \"palegreen\", 3: \"limegreen\", 4: \"darkgreen\" }\n",
    "\n",
    "for i in [2,3,4]:\n",
    "    tmpdf = DFS[DFS[\"n_dcm\"] == i] \n",
    "    axes[i+1].hist(tmpdf[\"rmse\"], bins=200, range=(0,3), alpha=0.4, density=True, color=colors_m[i])\n",
    "    axes[i+1].axvline(tmpdf[\"rmse\"].median(), color=colors_m[i])\n",
    "\n",
    "for ax in axes:\n",
    "    ax.set_ylim(0, 5.2)\n",
    "    ax.set_xlim(0, 2.5)\n",
    "\n",
    "axes[-1].set_xlabel(\"RMSE$_{\\mathrm{ESP}}$ [(kcal/mol)/$e$]\")"
   ]
  },
  {
   "cell_type": "code",
   "execution_count": 335,
   "id": "975af7a5-6430-496c-b5ce-50ef338ddeef",
   "metadata": {},
   "outputs": [
    {
     "data": {
      "text/html": [
       "<div>\n",
       "<style scoped>\n",
       "    .dataframe tbody tr th:only-of-type {\n",
       "        vertical-align: middle;\n",
       "    }\n",
       "\n",
       "    .dataframe tbody tr th {\n",
       "        vertical-align: top;\n",
       "    }\n",
       "\n",
       "    .dataframe thead tr th {\n",
       "        text-align: left;\n",
       "    }\n",
       "\n",
       "    .dataframe thead tr:last-of-type th {\n",
       "        text-align: right;\n",
       "    }\n",
       "</style>\n",
       "<table border=\"1\" class=\"dataframe\">\n",
       "  <thead>\n",
       "    <tr>\n",
       "      <th></th>\n",
       "      <th colspan=\"8\" halign=\"left\">rmse</th>\n",
       "      <th colspan=\"8\" halign=\"left\">D_mae</th>\n",
       "    </tr>\n",
       "    <tr>\n",
       "      <th></th>\n",
       "      <th>count</th>\n",
       "      <th>mean</th>\n",
       "      <th>std</th>\n",
       "      <th>min</th>\n",
       "      <th>25%</th>\n",
       "      <th>50%</th>\n",
       "      <th>75%</th>\n",
       "      <th>max</th>\n",
       "      <th>count</th>\n",
       "      <th>mean</th>\n",
       "      <th>std</th>\n",
       "      <th>min</th>\n",
       "      <th>25%</th>\n",
       "      <th>50%</th>\n",
       "      <th>75%</th>\n",
       "      <th>max</th>\n",
       "    </tr>\n",
       "    <tr>\n",
       "      <th>run</th>\n",
       "      <th></th>\n",
       "      <th></th>\n",
       "      <th></th>\n",
       "      <th></th>\n",
       "      <th></th>\n",
       "      <th></th>\n",
       "      <th></th>\n",
       "      <th></th>\n",
       "      <th></th>\n",
       "      <th></th>\n",
       "      <th></th>\n",
       "      <th></th>\n",
       "      <th></th>\n",
       "      <th></th>\n",
       "      <th></th>\n",
       "      <th></th>\n",
       "    </tr>\n",
       "  </thead>\n",
       "  <tbody>\n",
       "    <tr>\n",
       "      <th>20241002-175338dcm-2-w-10000</th>\n",
       "      <td>6506.0</td>\n",
       "      <td>0.820535</td>\n",
       "      <td>0.328407</td>\n",
       "      <td>0.276403</td>\n",
       "      <td>0.642897</td>\n",
       "      <td>0.763198</td>\n",
       "      <td>0.915724</td>\n",
       "      <td>6.859966</td>\n",
       "      <td>6506.0</td>\n",
       "      <td>0.125336</td>\n",
       "      <td>0.111854</td>\n",
       "      <td>0.002605</td>\n",
       "      <td>0.066147</td>\n",
       "      <td>0.102858</td>\n",
       "      <td>0.154545</td>\n",
       "      <td>2.381048</td>\n",
       "    </tr>\n",
       "    <tr>\n",
       "      <th>20241002-180916dcm-2-w-10000</th>\n",
       "      <td>6506.0</td>\n",
       "      <td>0.836868</td>\n",
       "      <td>0.364975</td>\n",
       "      <td>0.249721</td>\n",
       "      <td>0.621647</td>\n",
       "      <td>0.763486</td>\n",
       "      <td>0.970705</td>\n",
       "      <td>9.491041</td>\n",
       "      <td>6506.0</td>\n",
       "      <td>0.133251</td>\n",
       "      <td>0.110378</td>\n",
       "      <td>0.001868</td>\n",
       "      <td>0.069030</td>\n",
       "      <td>0.108476</td>\n",
       "      <td>0.167766</td>\n",
       "      <td>2.886050</td>\n",
       "    </tr>\n",
       "    <tr>\n",
       "      <th>20241002-180931dcm-3-w-10000</th>\n",
       "      <td>6506.0</td>\n",
       "      <td>0.660543</td>\n",
       "      <td>0.476082</td>\n",
       "      <td>0.203283</td>\n",
       "      <td>0.514740</td>\n",
       "      <td>0.606455</td>\n",
       "      <td>0.730574</td>\n",
       "      <td>25.625584</td>\n",
       "      <td>6506.0</td>\n",
       "      <td>0.106399</td>\n",
       "      <td>0.142555</td>\n",
       "      <td>0.001096</td>\n",
       "      <td>0.055765</td>\n",
       "      <td>0.086975</td>\n",
       "      <td>0.127981</td>\n",
       "      <td>7.525001</td>\n",
       "    </tr>\n",
       "    <tr>\n",
       "      <th>20241002-180943dcm-4-w-10000</th>\n",
       "      <td>6506.0</td>\n",
       "      <td>0.617301</td>\n",
       "      <td>0.282118</td>\n",
       "      <td>0.162104</td>\n",
       "      <td>0.481837</td>\n",
       "      <td>0.560550</td>\n",
       "      <td>0.672361</td>\n",
       "      <td>6.129375</td>\n",
       "      <td>6506.0</td>\n",
       "      <td>0.107692</td>\n",
       "      <td>0.095386</td>\n",
       "      <td>0.002186</td>\n",
       "      <td>0.055814</td>\n",
       "      <td>0.088877</td>\n",
       "      <td>0.132289</td>\n",
       "      <td>2.104301</td>\n",
       "    </tr>\n",
       "    <tr>\n",
       "      <th>20241002-182242dcm-4-w-10000</th>\n",
       "      <td>6506.0</td>\n",
       "      <td>0.613246</td>\n",
       "      <td>0.256316</td>\n",
       "      <td>0.255054</td>\n",
       "      <td>0.479262</td>\n",
       "      <td>0.558707</td>\n",
       "      <td>0.671158</td>\n",
       "      <td>7.099349</td>\n",
       "      <td>6506.0</td>\n",
       "      <td>0.102309</td>\n",
       "      <td>0.087904</td>\n",
       "      <td>0.001173</td>\n",
       "      <td>0.052717</td>\n",
       "      <td>0.083141</td>\n",
       "      <td>0.127667</td>\n",
       "      <td>2.662441</td>\n",
       "    </tr>\n",
       "    <tr>\n",
       "      <th>20241002-182301dcm-3-w-10000</th>\n",
       "      <td>6506.0</td>\n",
       "      <td>0.638891</td>\n",
       "      <td>0.282836</td>\n",
       "      <td>0.185153</td>\n",
       "      <td>0.501190</td>\n",
       "      <td>0.591586</td>\n",
       "      <td>0.709004</td>\n",
       "      <td>8.883291</td>\n",
       "      <td>6506.0</td>\n",
       "      <td>0.107944</td>\n",
       "      <td>0.093391</td>\n",
       "      <td>0.001145</td>\n",
       "      <td>0.056272</td>\n",
       "      <td>0.088648</td>\n",
       "      <td>0.133190</td>\n",
       "      <td>2.282175</td>\n",
       "    </tr>\n",
       "  </tbody>\n",
       "</table>\n",
       "</div>"
      ],
      "text/plain": [
       "                                rmse                                          \\\n",
       "                               count      mean       std       min       25%   \n",
       "run                                                                            \n",
       "20241002-175338dcm-2-w-10000  6506.0  0.820535  0.328407  0.276403  0.642897   \n",
       "20241002-180916dcm-2-w-10000  6506.0  0.836868  0.364975  0.249721  0.621647   \n",
       "20241002-180931dcm-3-w-10000  6506.0  0.660543  0.476082  0.203283  0.514740   \n",
       "20241002-180943dcm-4-w-10000  6506.0  0.617301  0.282118  0.162104  0.481837   \n",
       "20241002-182242dcm-4-w-10000  6506.0  0.613246  0.256316  0.255054  0.479262   \n",
       "20241002-182301dcm-3-w-10000  6506.0  0.638891  0.282836  0.185153  0.501190   \n",
       "\n",
       "                                                              D_mae            \\\n",
       "                                   50%       75%        max   count      mean   \n",
       "run                                                                             \n",
       "20241002-175338dcm-2-w-10000  0.763198  0.915724   6.859966  6506.0  0.125336   \n",
       "20241002-180916dcm-2-w-10000  0.763486  0.970705   9.491041  6506.0  0.133251   \n",
       "20241002-180931dcm-3-w-10000  0.606455  0.730574  25.625584  6506.0  0.106399   \n",
       "20241002-180943dcm-4-w-10000  0.560550  0.672361   6.129375  6506.0  0.107692   \n",
       "20241002-182242dcm-4-w-10000  0.558707  0.671158   7.099349  6506.0  0.102309   \n",
       "20241002-182301dcm-3-w-10000  0.591586  0.709004   8.883291  6506.0  0.107944   \n",
       "\n",
       "                                                                      \\\n",
       "                                   std       min       25%       50%   \n",
       "run                                                                    \n",
       "20241002-175338dcm-2-w-10000  0.111854  0.002605  0.066147  0.102858   \n",
       "20241002-180916dcm-2-w-10000  0.110378  0.001868  0.069030  0.108476   \n",
       "20241002-180931dcm-3-w-10000  0.142555  0.001096  0.055765  0.086975   \n",
       "20241002-180943dcm-4-w-10000  0.095386  0.002186  0.055814  0.088877   \n",
       "20241002-182242dcm-4-w-10000  0.087904  0.001173  0.052717  0.083141   \n",
       "20241002-182301dcm-3-w-10000  0.093391  0.001145  0.056272  0.088648   \n",
       "\n",
       "                                                  \n",
       "                                   75%       max  \n",
       "run                                               \n",
       "20241002-175338dcm-2-w-10000  0.154545  2.381048  \n",
       "20241002-180916dcm-2-w-10000  0.167766  2.886050  \n",
       "20241002-180931dcm-3-w-10000  0.127981  7.525001  \n",
       "20241002-180943dcm-4-w-10000  0.132289  2.104301  \n",
       "20241002-182242dcm-4-w-10000  0.127667  2.662441  \n",
       "20241002-182301dcm-3-w-10000  0.133190  2.282175  "
      ]
     },
     "execution_count": 335,
     "metadata": {},
     "output_type": "execute_result"
    }
   ],
   "source": [
    "DFS.groupby(\"run\")[[\"rmse\", \"D_mae\"]].describe()"
   ]
  },
  {
   "cell_type": "code",
   "execution_count": 336,
   "id": "1567002a-6458-4a86-9523-28bb2edf0ff5",
   "metadata": {},
   "outputs": [
    {
     "data": {
      "text/plain": [
       "array(['20241002-175338dcm-2-w-10000', '20241002-180916dcm-2-w-10000',\n",
       "       '20241002-180943dcm-4-w-10000', '20241002-180931dcm-3-w-10000',\n",
       "       '20241002-182242dcm-4-w-10000', '20241002-182301dcm-3-w-10000'],\n",
       "      dtype=object)"
      ]
     },
     "execution_count": 336,
     "metadata": {},
     "output_type": "execute_result"
    }
   ],
   "source": [
    "DFS.run.unique()"
   ]
  },
  {
   "cell_type": "code",
   "execution_count": null,
   "id": "e637d32e-fdd6-4b7a-b5b1-1ca018ad4ffe",
   "metadata": {},
   "outputs": [],
   "source": []
  },
  {
   "cell_type": "code",
   "execution_count": null,
   "id": "263b059c-6078-4682-af86-4b0757d8a01e",
   "metadata": {},
   "outputs": [],
   "source": []
  }
 ],
 "metadata": {
  "kernelspec": {
   "display_name": "jaxe3xcuda11p39",
   "language": "python",
   "name": "jaxe3xcuda11p39"
  },
  "language_info": {
   "codemirror_mode": {
    "name": "ipython",
    "version": 3
   },
   "file_extension": ".py",
   "mimetype": "text/x-python",
   "name": "python",
   "nbconvert_exporter": "python",
   "pygments_lexer": "ipython3",
   "version": "3.9.19"
  }
 },
 "nbformat": 4,
 "nbformat_minor": 5
}
